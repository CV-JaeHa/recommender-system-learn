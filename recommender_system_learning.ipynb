{
  "nbformat": 4,
  "nbformat_minor": 0,
  "metadata": {
    "colab": {
      "name": "recommender-system-learning",
      "provenance": [],
      "collapsed_sections": [],
      "mount_file_id": "1ESivZUacJYyQMk4gzJ-dYdG-LIAcAbyk",
      "authorship_tag": "ABX9TyMAayJZ/jEQrumkmG4DCPWP",
      "include_colab_link": true
    },
    "kernelspec": {
      "name": "python3",
      "display_name": "Python 3"
    },
    "language_info": {
      "name": "python"
    }
  },
  "cells": [
    {
      "cell_type": "markdown",
      "metadata": {
        "id": "view-in-github",
        "colab_type": "text"
      },
      "source": [
        "<a href=\"https://colab.research.google.com/github/CV-JaeHa/recommender-system-learn/blob/main/recommender_system_learning.ipynb\" target=\"_parent\"><img src=\"https://colab.research.google.com/assets/colab-badge.svg\" alt=\"Open In Colab\"/></a>"
      ]
    },
    {
      "cell_type": "markdown",
      "metadata": {
        "id": "SL-HzdlYAMn4"
      },
      "source": [
        "# 추천 시스템 (Recommender System)\n",
        "\n",
        "- 추천 시스템은 크게 두가지로 구분 가능\n",
        "    1. 컨텐츠 기반 필터링 (content-based filtering)\n",
        "    2. 협업 필터링 (collaborative filtering)\n",
        "- 두가지를 조합한 hybrid 방식 또한 가능\n",
        "- 컨텐츠 기반 필터링은 지금까지 사용자의 이전행동과 명시적 피드백을 통해 사용자가 좋아하는 것과 유사한 항목을 추천\n",
        "- 협업 필터링은 사용자와 항복간의 유사성을 동시에 추천"
      ]
    },
    {
      "cell_type": "markdown",
      "metadata": {
        "id": "oH-RooJrBd7Y"
      },
      "source": [
        "## Surprise\n",
        "- 추천 시스템 개발을 위한 라이브러리\n",
        "- 다양한 모델과 데이터 제공\n",
        "- scikit-learn과 유사한 사용 방법"
      ]
    },
    {
      "cell_type": "code",
      "metadata": {
        "colab": {
          "base_uri": "https://localhost:8080/"
        },
        "id": "BSq14oqOM_ps",
        "outputId": "3bd110d5-e483-4dbb-910b-70deac4e561f"
      },
      "source": [
        "!pip install scikit-surprise"
      ],
      "execution_count": 1,
      "outputs": [
        {
          "output_type": "stream",
          "name": "stdout",
          "text": [
            "Requirement already satisfied: scikit-surprise in /usr/local/lib/python3.7/dist-packages (1.1.1)\n",
            "Requirement already satisfied: joblib>=0.11 in /usr/local/lib/python3.7/dist-packages (from scikit-surprise) (1.0.1)\n",
            "Requirement already satisfied: scipy>=1.0.0 in /usr/local/lib/python3.7/dist-packages (from scikit-surprise) (1.4.1)\n",
            "Requirement already satisfied: numpy>=1.11.2 in /usr/local/lib/python3.7/dist-packages (from scikit-surprise) (1.19.5)\n",
            "Requirement already satisfied: six>=1.10.0 in /usr/local/lib/python3.7/dist-packages (from scikit-surprise) (1.15.0)\n"
          ]
        }
      ]
    },
    {
      "cell_type": "markdown",
      "metadata": {
        "id": "DIgkcD9oKDAF"
      },
      "source": [
        "# Import Library"
      ]
    },
    {
      "cell_type": "code",
      "metadata": {
        "id": "aUY9gkK7AL_G"
      },
      "source": [
        "from surprise import SVD\n",
        "from surprise import Dataset\n",
        "from surprise.model_selection import cross_validate"
      ],
      "execution_count": 2,
      "outputs": []
    },
    {
      "cell_type": "code",
      "metadata": {
        "colab": {
          "base_uri": "https://localhost:8080/"
        },
        "id": "6-TgmlnENaRR",
        "outputId": "4815a5a0-6361-48b4-bef5-66e2d55ff619"
      },
      "source": [
        "# 영화 데이터\n",
        "data = Dataset.load_builtin('ml-100k', prompt=False)\n",
        "# 10개만 보기\n",
        "data.raw_ratings[:10]\n",
        "\n",
        "# 데이터구조 [유저, 영화, 점수, 아이디]"
      ],
      "execution_count": 3,
      "outputs": [
        {
          "output_type": "execute_result",
          "data": {
            "text/plain": [
              "[('196', '242', 3.0, '881250949'),\n",
              " ('186', '302', 3.0, '891717742'),\n",
              " ('22', '377', 1.0, '878887116'),\n",
              " ('244', '51', 2.0, '880606923'),\n",
              " ('166', '346', 1.0, '886397596'),\n",
              " ('298', '474', 4.0, '884182806'),\n",
              " ('115', '265', 2.0, '881171488'),\n",
              " ('253', '465', 5.0, '891628467'),\n",
              " ('305', '451', 3.0, '886324817'),\n",
              " ('6', '86', 3.0, '883603013')]"
            ]
          },
          "metadata": {},
          "execution_count": 3
        }
      ]
    },
    {
      "cell_type": "code",
      "metadata": {
        "id": "FA7-CeCXNngc"
      },
      "source": [
        "model = SVD()"
      ],
      "execution_count": 4,
      "outputs": []
    },
    {
      "cell_type": "markdown",
      "metadata": {
        "id": "eKw8smZEiwoc"
      },
      "source": [
        "mse : 평균 제곱 오차  \n",
        "통계적 추정의 정확성에 대한 질적인 척도 수치가 작을수록 정확성이 높은 것  \n",
        "수학적인 분석이 쉽고 계산이 용이하다.  \n",
        "![mse 공식.png](data:image/png;base64,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)\n",
        "\n",
        "회귀분석으로 예측값이 나오고 그것을 실제 값과 뺴주어 나온 값을 모두 더해 평균을 내준다.\n",
        "\n",
        "Root mean square error  \n",
        "rmse : 평균 제곱근 오차(MSE의 제곱근 / 루트를 씌운 것이다.)  \n",
        "\n",
        "---  \n",
        "\n",
        "mean absolute error\n",
        "mae : 평균절대오차  \n",
        "모든 절대 오차의 평균이다.  \n",
        "![mae 공식.png](data:image/png;base64,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)\n",
        "\n",
        "1. 각 측정값과 실제값 사이의 절대 오차를 구하기\n",
        "2. 구한 절대 오차들을 모두 더하기\n",
        "3. 이를 절대 오차의 평균(개수값)을 구하기  \n",
        "\n",
        "---  \n",
        "\n",
        "mse는 회귀에서 자주 사용하는 손실 함수이다.  \n",
        "정확도 개념은 회귀에 적용되지 않는다.  \n",
        "일반적인 회귀 지표는 mae다.  \n",
        "</br>\n",
        "mse는 손실 함수로 쓰이고, mae는 회귀지표로써 사용된다.\n",
        "\n",
        "---\n",
        "\n",
        "Explanation\n",
        "[https://steadiness-193.tistory.com/277](https://steadiness-193.tistory.com/277)"
      ]
    },
    {
      "cell_type": "code",
      "metadata": {
        "colab": {
          "base_uri": "https://localhost:8080/"
        },
        "id": "-JcvxjeMiXV4",
        "outputId": "75f56c5b-3b06-4035-aca8-a88977ca154a"
      },
      "source": [
        "# 검증\n",
        "## measure : 검증방법 / CV : 폴더 / verbose : 학습의 진행 상황을 보여줄 것인지\n",
        "cross_validate(model, data, measures=['rmse', 'mae'], cv=5, verbose=True)"
      ],
      "execution_count": 15,
      "outputs": [
        {
          "output_type": "stream",
          "name": "stdout",
          "text": [
            "Evaluating RMSE, MAE of algorithm SVD on 5 split(s).\n",
            "\n",
            "                  Fold 1  Fold 2  Fold 3  Fold 4  Fold 5  Mean    Std     \n",
            "RMSE (testset)    0.9359  0.9360  0.9368  0.9365  0.9377  0.9366  0.0007  \n",
            "MAE (testset)     0.7375  0.7361  0.7370  0.7399  0.7403  0.7381  0.0016  \n",
            "Fit time          4.99    4.87    4.90    4.91    4.86    4.91    0.04    \n",
            "Test time         0.20    0.28    0.18    0.30    0.18    0.23    0.05    \n"
          ]
        },
        {
          "output_type": "execute_result",
          "data": {
            "text/plain": [
              "{'fit_time': (4.98571252822876,\n",
              "  4.871892690658569,\n",
              "  4.899631023406982,\n",
              "  4.912055969238281,\n",
              "  4.860328674316406),\n",
              " 'test_mae': array([0.73746234, 0.73609329, 0.7369706 , 0.73985603, 0.74027622]),\n",
              " 'test_rmse': array([0.93590421, 0.93595016, 0.93684934, 0.93648057, 0.93772283]),\n",
              " 'test_time': (0.20037007331848145,\n",
              "  0.2781541347503662,\n",
              "  0.18168139457702637,\n",
              "  0.30420494079589844,\n",
              "  0.1751868724822998)}"
            ]
          },
          "metadata": {},
          "execution_count": 15
        }
      ]
    },
    {
      "cell_type": "markdown",
      "metadata": {
        "id": "gA2KQskyl_G5"
      },
      "source": [
        "# 컨텐츠 기반 필터링 (Content-based Filtering)\n",
        "\n",
        "- 컨텐츠 기반 필터링은 이전의 행동과 명시적 피드백을 통해 좋아하는 것과 유사한 항목을 추천\n",
        "  - ex) 내가 지금까지 시청한 영화 목록과 다른 사용자의 시청 목록을 비교해 나와 비슷한 취향의 사용자가 시청한 영화를 추천\n",
        "- 유사도를 기반으로 추천\n",
        "- 컨텐츠 기반 필터링은 다음과 같은 장단점이 있다.\n",
        "  - 장점\n",
        "    - 많은 수의 사용자를 대상으로 쉽게 확장 가능\n",
        "    - 사용자가 관심을 갖지 않던 상품 추천 가능\n",
        "  - 단점\n",
        "    - 입력 특성을 직접 설계해야하기 때문에 많은 도메인 지식이 필요\n",
        "    - 사용자의 기존 관심사항을 기반으로만 추천 가능"
      ]
    },
    {
      "cell_type": "code",
      "metadata": {
        "id": "ziDaxA2imlPb"
      },
      "source": [
        " import numpy as np\n",
        " from surprise import Dataset"
      ],
      "execution_count": 16,
      "outputs": []
    },
    {
      "cell_type": "markdown",
      "metadata": {
        "id": "YMPJ4U4pofHr"
      },
      "source": [
        "## 이진 벡터의 내적을 통해 다른 사용자들과 유사도 구하기\n",
        "- 나와 가장 높은 유사도를 가진 사용자의 시청 목록을 추천"
      ]
    },
    {
      "cell_type": "code",
      "metadata": {
        "id": "tCtCT8a8oeOQ"
      },
      "source": [
        "data = Dataset.load_builtin('ml-100k', prompt=False)\n",
        "raw_data = np.array(data.raw_ratings, dtype=int)"
      ],
      "execution_count": 18,
      "outputs": []
    },
    {
      "cell_type": "code",
      "metadata": {
        "id": "HXZcJB1VpH6r"
      },
      "source": [
        "# 0부터 시작할 수 있도록 조절\n",
        "raw_data[:, 0] -= 1\n",
        "raw_data[:, 1] -= 1"
      ],
      "execution_count": 19,
      "outputs": []
    },
    {
      "cell_type": "code",
      "metadata": {
        "colab": {
          "base_uri": "https://localhost:8080/"
        },
        "id": "Rf_-hrLWpRkN",
        "outputId": "d9b23801-16ce-4252-a119-153909db8dea"
      },
      "source": [
        "# 인접 행렬 구하기 (총 인원 수 구하기)\n",
        "n_users = np.max(raw_data[:, 0]) # 총 유저 수\n",
        "n_movies = np.max(raw_data[:, 1]) # 총 영화 수\n",
        "shape = (n_users + 1, n_movies + 1) # 행렬\n",
        "\n",
        "shape"
      ],
      "execution_count": 20,
      "outputs": [
        {
          "output_type": "execute_result",
          "data": {
            "text/plain": [
              "(943, 1682)"
            ]
          },
          "metadata": {},
          "execution_count": 20
        }
      ]
    },
    {
      "cell_type": "code",
      "metadata": {
        "colab": {
          "base_uri": "https://localhost:8080/"
        },
        "id": "xHxkQ5yOprWf",
        "outputId": "e47175fe-d57e-4e84-d95d-9fbe34e7a999"
      },
      "source": [
        "adj_matrix = np.ndarray(shape, dtype=int)\n",
        "for user_id, movie_id, rating, time in raw_data:\n",
        "  adj_matrix[user_id][movie_id] = 1.\n",
        "\n",
        "# 1이 있는게 데이터의 위치\n",
        "adj_matrix"
      ],
      "execution_count": 22,
      "outputs": [
        {
          "output_type": "execute_result",
          "data": {
            "text/plain": [
              "array([[1, 1, 1, ..., 0, 0, 0],\n",
              "       [1, 0, 0, ..., 0, 0, 0],\n",
              "       [0, 0, 0, ..., 0, 0, 0],\n",
              "       ...,\n",
              "       [1, 0, 0, ..., 0, 0, 0],\n",
              "       [0, 0, 0, ..., 0, 0, 0],\n",
              "       [0, 1, 0, ..., 0, 0, 0]])"
            ]
          },
          "metadata": {},
          "execution_count": 22
        }
      ]
    },
    {
      "cell_type": "code",
      "metadata": {
        "colab": {
          "base_uri": "https://localhost:8080/"
        },
        "id": "-FdIiR0_qs31",
        "outputId": "daeddc17-ea52-463a-9f89-65c344b73417"
      },
      "source": [
        "my_id, my_vector = 0, adj_matrix[0]\n",
        "best_match, best_match_id, best_match_vector = -1, -1, []\n",
        "\n",
        "for user_id, user_vector in enumerate(adj_matrix):\n",
        "  # 만약에 나와 유저 아이디가 다르면 시뮬레이트 비교 (유사성 비교)\n",
        "  if my_id != user_id:\n",
        "    similarity = np.dot(my_vector, user_vector)\n",
        "    # 유사성이 best_math보다 크면 best_match를 시뮬레이터로 바꿔준다.\n",
        "    if similarity > best_match:\n",
        "      best_match = similarity\n",
        "      best_match_id = user_id\n",
        "      best_match_vector = user_vector\n",
        "\n",
        "print(f\"Best Match : {best_match}, Best Match ID : {best_match_id}\")"
      ],
      "execution_count": 35,
      "outputs": [
        {
          "output_type": "stream",
          "name": "stdout",
          "text": [
            "Best Match : 183, Best Match ID : 275\n"
          ]
        }
      ]
    },
    {
      "cell_type": "code",
      "metadata": {
        "colab": {
          "base_uri": "https://localhost:8080/"
        },
        "id": "mr0A4ezzaof5",
        "outputId": "b2a010ee-40f1-4678-9f93-78138526078b"
      },
      "source": [
        "recommend_list = []\n",
        "for i, log in enumerate(zip(my_vector, best_match_vector)):\n",
        "  log1, log2 = log\n",
        "  if log1 < 1. and log2 > 0.:\n",
        "    recommend_list.append(i)\n",
        "\n",
        "# Recommend list\n",
        "print(recommend_list)"
      ],
      "execution_count": 36,
      "outputs": [
        {
          "output_type": "stream",
          "name": "stdout",
          "text": [
            "[272, 273, 275, 280, 281, 283, 287, 288, 289, 290, 292, 293, 297, 299, 300, 301, 302, 306, 312, 314, 315, 316, 317, 321, 322, 323, 324, 327, 330, 331, 332, 333, 339, 342, 345, 346, 353, 354, 355, 356, 357, 363, 364, 365, 366, 372, 374, 378, 379, 381, 382, 383, 384, 385, 386, 387, 390, 391, 392, 394, 395, 396, 398, 400, 401, 402, 403, 404, 405, 406, 407, 408, 409, 410, 412, 414, 416, 417, 418, 419, 420, 422, 424, 425, 426, 427, 428, 430, 431, 432, 435, 442, 446, 447, 448, 449, 450, 451, 452, 454, 455, 457, 460, 461, 462, 468, 469, 470, 471, 472, 473, 474, 478, 495, 500, 507, 517, 522, 525, 530, 539, 540, 543, 545, 546, 548, 549, 550, 551, 553, 557, 558, 560, 561, 562, 563, 565, 566, 567, 568, 570, 571, 574, 575, 576, 577, 580, 581, 582, 585, 587, 589, 590, 594, 596, 602, 623, 626, 627, 630, 633, 635, 639, 646, 648, 651, 652, 654, 657, 664, 668, 671, 677, 678, 681, 683, 684, 685, 690, 691, 692, 695, 696, 708, 709, 714, 718, 719, 720, 724, 726, 727, 731, 733, 734, 736, 738, 741, 742, 745, 746, 747, 749, 750, 754, 758, 762, 764, 767, 768, 769, 770, 771, 772, 773, 778, 779, 782, 785, 788, 789, 793, 795, 796, 799, 800, 801, 802, 805, 806, 808, 815, 819, 822, 824, 830, 839, 842, 843, 844, 852, 853, 870, 875, 878, 880, 889, 901, 914, 915, 918, 921, 927, 929, 930, 938, 940, 941, 942, 948, 950, 958, 968, 973, 974, 976, 992, 999, 1005, 1009, 1010, 1012, 1015, 1018, 1027, 1030, 1034, 1035, 1041, 1043, 1045, 1046, 1051, 1055, 1072, 1073, 1078, 1080, 1082, 1088, 1089, 1090, 1094, 1097, 1108, 1109, 1117, 1128, 1130, 1134, 1139, 1140, 1144, 1156, 1169, 1171, 1179, 1193, 1198, 1207, 1209, 1212, 1217, 1219, 1220, 1227, 1231, 1238, 1239, 1243, 1244, 1252, 1266, 1272, 1273, 1300, 1313, 1406, 1412, 1415, 1470, 1477, 1480, 1481, 1482]\n"
          ]
        }
      ]
    },
    {
      "cell_type": "markdown",
      "metadata": {
        "id": "dbU5A89cqTwG"
      },
      "source": [
        "## 유클리드 거리를 사용해 추천  \n",
        "![유클리드 거리.png](data:image/png;base64,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)  \n",
        "- 거리가 가까울수록(값이 작을 수록) 나와 유사한 사용자"
      ]
    },
    {
      "cell_type": "code",
      "metadata": {
        "colab": {
          "base_uri": "https://localhost:8080/"
        },
        "id": "7LcErUaXqSeQ",
        "outputId": "d40a5259-6b6b-481e-c580-8a7aba045ed0"
      },
      "source": [
        "my_id, my_vector = 0, adj_matrix[0]\n",
        "best_match, best_match_id, best_match_vector = -1, -1, []\n",
        "\n",
        "for user_id, user_vector in enumerate(adj_matrix):\n",
        "  if my_id != user_id:\n",
        "    enclidean_dist = np.sqrt(np.sum(np.square(my_vector - user_vector)))\n",
        "    if enclidean_dist > best_match:\n",
        "      best_match = enclidean_dist\n",
        "      best_match_id = user_id\n",
        "      best_match_vector = user_vector\n",
        "\n",
        "print(f\"Best Match : {best_match}, Best Match ID : {best_match_id}\")"
      ],
      "execution_count": 29,
      "outputs": [
        {
          "output_type": "stream",
          "name": "stdout",
          "text": [
            "Best Match : 26.40075756488817, Best Match ID : 404\n"
          ]
        }
      ]
    },
    {
      "cell_type": "code",
      "metadata": {
        "colab": {
          "base_uri": "https://localhost:8080/"
        },
        "id": "GVd0AJSuy6EQ",
        "outputId": "adc1ef01-d2cb-4d7a-9f08-65dd08a352fd"
      },
      "source": [
        "recommend_list = []\n",
        "for i, log in enumerate(zip(my_vector, best_match_vector)):\n",
        "  log1, log2 = log\n",
        "  if log1 < 1. and log2 > 0.:\n",
        "    recommend_list.append(i)\n",
        "\n",
        "print(recommend_list)"
      ],
      "execution_count": 31,
      "outputs": [
        {
          "output_type": "stream",
          "name": "stdout",
          "text": [
            "[287, 301, 302, 307, 312, 316, 317, 340, 346, 349, 350, 355, 356, 360, 363, 364, 365, 366, 370, 371, 372, 373, 374, 375, 376, 377, 378, 379, 380, 381, 382, 383, 384, 385, 386, 387, 388, 390, 391, 392, 394, 395, 396, 397, 398, 399, 400, 401, 402, 403, 413, 414, 415, 416, 417, 418, 419, 420, 421, 422, 424, 425, 426, 427, 428, 429, 430, 431, 432, 433, 434, 435, 436, 437, 438, 439, 440, 441, 442, 443, 444, 445, 446, 447, 448, 449, 450, 451, 452, 460, 461, 462, 463, 464, 465, 466, 467, 468, 469, 479, 481, 500, 503, 508, 509, 510, 511, 512, 513, 514, 515, 516, 517, 518, 519, 520, 521, 522, 523, 524, 525, 526, 527, 528, 529, 535, 536, 539, 540, 541, 542, 544, 547, 548, 549, 550, 551, 552, 553, 554, 555, 556, 557, 558, 559, 560, 561, 562, 563, 564, 565, 566, 567, 568, 569, 570, 572, 573, 574, 575, 576, 577, 578, 579, 580, 581, 582, 583, 584, 585, 587, 591, 592, 602, 605, 620, 621, 622, 623, 624, 625, 626, 637, 638, 639, 640, 641, 642, 643, 644, 645, 646, 647, 648, 649, 650, 651, 652, 653, 654, 655, 656, 657, 658, 659, 660, 661, 662, 663, 664, 665, 666, 667, 668, 669, 670, 671, 672, 673, 674, 678, 683, 691, 692, 693, 694, 696, 697, 698, 699, 701, 702, 703, 706, 707, 708, 709, 711, 713, 714, 715, 718, 719, 720, 721, 722, 723, 724, 725, 726, 727, 728, 729, 730, 731, 732, 733, 734, 735, 736, 737, 738, 744, 745, 746, 752, 754, 756, 758, 760, 764, 767, 768, 769, 770, 771, 772, 773, 774, 775, 776, 777, 778, 779, 780, 781, 782, 783, 784, 785, 786, 787, 788, 789, 790, 791, 792, 793, 794, 795, 797, 801, 805, 806, 807, 809, 811, 815, 841, 842, 848, 850, 852, 853, 854, 855, 857, 858, 859, 860, 876, 903, 919, 920, 922, 938, 939, 940, 941, 942, 943, 945, 946, 948, 950, 952, 953, 954, 955, 956, 957, 958, 959, 963, 968, 969, 970, 971, 993, 995, 996, 998, 1003, 1004, 1005, 1017, 1018, 1020, 1026, 1028, 1029, 1030, 1031, 1034, 1035, 1036, 1040, 1041, 1042, 1043, 1044, 1045, 1052, 1054, 1057, 1061, 1062, 1064, 1065, 1068, 1069, 1071, 1072, 1073, 1075, 1077, 1089, 1090, 1098, 1099, 1100, 1102, 1103, 1106, 1107, 1108, 1109, 1110, 1111, 1112, 1117, 1118, 1138, 1145, 1146, 1147, 1158, 1165, 1166, 1167, 1174, 1175, 1176, 1177, 1178, 1179, 1181, 1183, 1187, 1191, 1192, 1193, 1194, 1199, 1205, 1206, 1207, 1208, 1209, 1216, 1217, 1218, 1219, 1220, 1221, 1223, 1224, 1226, 1227, 1228, 1229, 1230, 1231, 1238, 1239, 1245, 1246, 1247, 1248, 1249, 1252, 1259, 1260, 1264, 1265, 1266, 1267, 1270, 1273, 1274, 1289, 1296, 1304, 1305, 1306, 1307, 1310, 1315, 1316, 1317, 1333, 1337, 1345, 1352, 1358, 1381, 1383, 1386, 1390, 1393, 1398, 1399, 1403, 1404, 1406, 1407, 1408, 1411, 1414, 1418, 1420, 1421, 1422, 1423, 1424, 1428, 1431, 1433, 1434, 1436, 1437, 1438, 1440, 1441, 1443, 1444, 1463, 1467, 1468, 1469, 1470, 1473, 1474, 1477, 1478, 1479, 1483, 1486, 1487, 1498, 1502, 1508, 1516, 1517, 1518, 1521, 1528, 1529, 1530, 1534, 1538, 1539, 1543, 1544, 1545, 1546, 1547, 1548, 1549, 1550, 1551, 1552, 1553, 1554, 1555, 1556, 1557, 1558, 1559, 1560, 1561, 1562, 1563, 1564, 1565, 1566, 1567, 1568, 1569, 1570, 1571, 1572, 1573, 1574, 1575, 1576, 1577, 1578, 1579, 1580, 1581, 1582, 1583, 1584, 1585, 1586, 1587, 1588, 1589, 1590, 1591]\n"
          ]
        }
      ]
    },
    {
      "cell_type": "markdown",
      "metadata": {
        "id": "Vx1nBk3U0H0Y"
      },
      "source": [
        "## 코사인 유사도를 사용해 추천\n",
        "![코사인 유사도.png](data:image/png;base64,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)  \n",
        "- 두 벡터가 이루고 있는 각을 계산  \n",
        "</br>\n",
        "norm : 벡터의 크기(magnitude) 또는 길이(length)를 측정하는 방법\n",
        "</br>\n",
        "x = [2, 3]</br>\n",
        "||x|| = |2| + |3| = 5\n",
        "</br>\n",
        "\n",
        "Reference : [https://bskyvision.com/825](https://bskyvision.com/825)"
      ]
    },
    {
      "cell_type": "code",
      "metadata": {
        "id": "-z8PSdIJ0gaS"
      },
      "source": [
        "def compute_cos_similarity(v1, v2):\n",
        "  norm1 = np.sqrt(np.sum(np.square(v1)))\n",
        "  norm2 = np.sqrt(np.sum(np.square(v2)))\n",
        "  dot = np.dot(v1, v2)\n",
        "\n",
        "  return dot / (norm1 * norm2)"
      ],
      "execution_count": 32,
      "outputs": []
    },
    {
      "cell_type": "code",
      "metadata": {
        "colab": {
          "base_uri": "https://localhost:8080/"
        },
        "id": "reiUOjFK2X84",
        "outputId": "22176e20-437a-4444-f633-b33683d8ed96"
      },
      "source": [
        "my_id, my_vector = 0, adj_matrix[0]\n",
        "best_match, best_match_id, best_match_vector = -1, -1, []\n",
        "\n",
        "for user_id, user_vector in enumerate(adj_matrix):\n",
        "  if my_id != user_id:\n",
        "    cos_similarity = compute_cos_similarity(my_vector, user_vector)\n",
        "    if enclidean_dist > best_match:\n",
        "      best_match = cos_similarity\n",
        "      best_match_id = user_id\n",
        "      best_match_vector = user_vector\n",
        "\n",
        "print(f\"Best Match : {best_match}, Best Match ID : {best_match_id}\")"
      ],
      "execution_count": 37,
      "outputs": [
        {
          "output_type": "stream",
          "name": "stdout",
          "text": [
            "Best Match : 0.3882746165681559, Best Match ID : 942\n"
          ]
        }
      ]
    },
    {
      "cell_type": "code",
      "metadata": {
        "colab": {
          "base_uri": "https://localhost:8080/"
        },
        "id": "lbujo9LJ3H_w",
        "outputId": "881408e7-b0c3-4d16-a711-f9f49f36139d"
      },
      "source": [
        "recommend_list = []\n",
        "for i, log in enumerate(zip(my_vector, best_match_vector)):\n",
        "  log1, log2 = log\n",
        "  if log1 < 1. and log2 > 0.:\n",
        "    recommend_list.append(i)\n",
        "\n",
        "print(recommend_list)"
      ],
      "execution_count": 38,
      "outputs": [
        {
          "output_type": "stream",
          "name": "stdout",
          "text": [
            "[273, 280, 281, 283, 317, 355, 366, 372, 384, 385, 390, 392, 398, 400, 401, 402, 404, 405, 411, 414, 418, 420, 422, 425, 426, 430, 442, 448, 449, 467, 469, 470, 474, 484, 507, 525, 540, 545, 548, 558, 565, 567, 568, 569, 575, 580, 584, 594, 608, 613, 624, 654, 671, 684, 716, 719, 720, 721, 723, 731, 738, 755, 762, 764, 784, 793, 795, 807, 815, 823, 824, 830, 839, 927, 940, 942, 1010, 1027, 1043, 1046, 1066, 1073, 1187, 1227, 1329]\n"
          ]
        }
      ]
    },
    {
      "cell_type": "markdown",
      "metadata": {
        "id": "zMPzedEI3L3U"
      },
      "source": [
        "### 기존 방법에 명시적 피드백(사용자가 평가한 영화 점수)를 추가해 실험"
      ]
    },
    {
      "cell_type": "code",
      "metadata": {
        "colab": {
          "base_uri": "https://localhost:8080/"
        },
        "id": "FIqwSAmO3TwM",
        "outputId": "ed278063-b23f-4861-d535-e33f712a1a60"
      },
      "source": [
        "adj_matrix = np.ndarray(shape, dtype=int)\n",
        "for user_id, movie_id, rating, time in raw_data:\n",
        "  adj_matrix[user_id][movie_id] = rating\n",
        "\n",
        "# 기존의 정보는 봤냐 안봤냐만을 알려주지만 지금은 평가를 했는지 안했는지를 알려준다.\n",
        "adj_matrix"
      ],
      "execution_count": 39,
      "outputs": [
        {
          "output_type": "execute_result",
          "data": {
            "text/plain": [
              "array([[5, 3, 4, ..., 0, 0, 0],\n",
              "       [4, 0, 0, ..., 0, 0, 0],\n",
              "       [0, 0, 0, ..., 0, 0, 0],\n",
              "       ...,\n",
              "       [5, 0, 0, ..., 0, 0, 0],\n",
              "       [0, 0, 0, ..., 0, 0, 0],\n",
              "       [0, 5, 0, ..., 0, 0, 0]])"
            ]
          },
          "metadata": {},
          "execution_count": 39
        }
      ]
    },
    {
      "cell_type": "code",
      "metadata": {
        "colab": {
          "base_uri": "https://localhost:8080/"
        },
        "id": "wmGQpj-_3pdX",
        "outputId": "96274383-0803-4541-8540-e9e955402a18"
      },
      "source": [
        "my_id, my_vector = 0, adj_matrix[0]\n",
        "best_match, best_match_id, best_match_vector = -1, -1, []\n",
        "\n",
        "for user_id, user_vector in enumerate(adj_matrix):\n",
        "  if my_id != user_id:\n",
        "    cos_similarity = compute_cos_similarity(my_vector, user_vector)\n",
        "    if cos_similarity > best_match:\n",
        "      best_match = cos_similarity\n",
        "      best_match_id = user_id\n",
        "      best_match_vector = user_vector\n",
        "\n",
        "print(f\"Best Match : {best_match}, Best Match ID : {best_match_id}\")\n",
        "\n",
        "## 26분 6초"
      ],
      "execution_count": 40,
      "outputs": [
        {
          "output_type": "stream",
          "name": "stdout",
          "text": [
            "Best Match : 0.569065731527988, Best Match ID : 915\n"
          ]
        }
      ]
    }
  ]
}